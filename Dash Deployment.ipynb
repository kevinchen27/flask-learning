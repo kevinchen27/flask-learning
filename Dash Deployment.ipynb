{
 "cells": [
  {
   "cell_type": "markdown",
   "metadata": {},
   "source": [
    "## Deploying Dash Apps using Flask\n",
    "Routing to multiple webpages for different graph selections"
   ]
  },
  {
   "cell_type": "markdown",
   "metadata": {},
   "source": [
    "## Perform Imports "
   ]
  },
  {
   "cell_type": "code",
   "execution_count": 1,
   "metadata": {},
   "outputs": [],
   "source": [
    "import dash\n",
    "import dash_core_components as dcc\n",
    "import dash_html_components as html\n",
    "from dash.dependencies import Input, Output, State\n",
    "\n",
    "import flask"
   ]
  },
  {
   "cell_type": "markdown",
   "metadata": {},
   "source": [
    "## Setup Dash App"
   ]
  },
  {
   "cell_type": "code",
   "execution_count": 5,
   "metadata": {},
   "outputs": [],
   "source": [
    "app = dash.Dash(__name__)\n",
    "\n",
    "#Represent URL bar\n",
    "url_bar_and_content_div = html.Div([\n",
    "    dcc.Location(id='url', refresh=False),\n",
    "    html.Div(id='page-content')\n",
    "])"
   ]
  },
  {
   "cell_type": "markdown",
   "metadata": {},
   "source": [
    "## Set layout of homepage\n",
    "Homepage will contain links to the webpages we want to navigate to\n",
    "So specify the links on the homepage using dcc.Link and insert a line break for readability (preferred)"
   ]
  },
  {
   "cell_type": "code",
   "execution_count": 6,
   "metadata": {},
   "outputs": [],
   "source": [
    "layout_index = html.Div([\n",
    "    dcc.Link('Navigate to \"/page-1\"', href='/page-1'), #link to page 1\n",
    "    html.Br(), #inserts line break\n",
    "    dcc.Link('Navigate to \"/page-2\"', href='/page-2'), #link to page 2\n",
    "])\n"
   ]
  },
  {
   "cell_type": "markdown",
   "metadata": {},
   "source": [
    "## Set up the two Dash pages\n",
    "Create separate Dash Apps each specifying its own layout\n",
    "- First specify the layout of page 1, putting a header inside the html.Div. Then, specify the DCC followed by an html.Div with **id** for reference\n",
    "- You can add links to the other webpages too, same way as before with dcc.Link\n",
    "- Similarly do the same for the layout of the second webpage\n",
    "    - Declare html.Div, insert DCC as you would normally do for app.layout, then close by including links to the other web pages if desired"
   ]
  },
  {
   "cell_type": "code",
   "execution_count": null,
   "metadata": {},
   "outputs": [],
   "source": [
    "layout_page_1 = html.Div([\n",
    "    html.H2('Page 1'), #Header of page\n",
    "    \n",
    "    #takes input from user depending on option\n",
    "    dcc.Input(id='input-1-state', type='text', value='Montreal'),\n",
    "    dcc.Input(id='input-2-state', type='text', value='Canada'),\n",
    "    \n",
    "    #button component that counts number of clicks and control callback with state\n",
    "    html.Button(id='submit-button', n_clicks=0, children='Submit'),\n",
    "    html.Div(id='output-state'),\n",
    "    html.Br(), \n",
    "    dcc.Link('Navigate to \"/\"', href='/'), #back to home page\n",
    "    html.Br(),\n",
    "    dcc.Link('Navigate to \"/page-2\"', href='/page-2'), #to second DCC page\n",
    "])\n",
    "\n",
    "layout_page_2 = html.Div([\n",
    "    html.H2('Page 2'),\n",
    "    dcc.Dropdown(\n",
    "        id='page-2-dropdown',\n",
    "        options=[{'label': i, 'value': i} for i in ['LA', 'NYC', 'MTL']],\n",
    "        value='LA'\n",
    "    ),\n",
    "    html.Div(id='page-2-display-value'),\n",
    "    html.Br(),\n",
    "    dcc.Link('Navigate to \"/\"', href='/'),\n",
    "    html.Br(),\n",
    "    dcc.Link('Navigate to \"/page-1\"', href='/page-1'),\n",
    "])\n"
   ]
  },
  {
   "cell_type": "markdown",
   "metadata": {},
   "source": [
    "## Define function that will return the URL and returns the three options for homepage, webpage 1 and webpage 2"
   ]
  },
  {
   "cell_type": "code",
   "execution_count": 3,
   "metadata": {},
   "outputs": [
    {
     "name": "stdout",
     "output_type": "stream",
     "text": [
      " * Serving Flask app \"__main__\" (lazy loading)\n",
      " * Environment: production\n",
      "   WARNING: This is a development server. Do not use it in a production deployment.\n",
      "   Use a production WSGI server instead.\n",
      " * Debug mode: off\n"
     ]
    },
    {
     "name": "stderr",
     "output_type": "stream",
     "text": [
      " * Running on http://127.0.0.1:8050/ (Press CTRL+C to quit)\n",
      "127.0.0.1 - - [11/Sep/2019 15:22:42] \"GET / HTTP/1.1\" 200 -\n",
      "127.0.0.1 - - [11/Sep/2019 15:22:42] \"GET /_dash-component-suites/dash_renderer/react@16.8.6.min.js?v=1.0.1&m=1567121872 HTTP/1.1\" 200 -\n",
      "127.0.0.1 - - [11/Sep/2019 15:22:42] \"GET /_dash-component-suites/dash_renderer/prop-types@15.7.2.min.js?v=1.0.1&m=1567121872 HTTP/1.1\" 200 -\n",
      "127.0.0.1 - - [11/Sep/2019 15:22:42] \"GET /_dash-component-suites/dash_renderer/react-dom@16.8.6.min.js?v=1.0.1&m=1567121872 HTTP/1.1\" 200 -\n",
      "127.0.0.1 - - [11/Sep/2019 15:22:42] \"GET /_dash-component-suites/dash_html_components/dash_html_components.min.js?v=1.0.1&m=1567121877 HTTP/1.1\" 200 -\n",
      "127.0.0.1 - - [11/Sep/2019 15:22:42] \"GET /_dash-component-suites/dash_core_components/highlight.pack.js?v=1.1.2&m=1567121874 HTTP/1.1\" 200 -\n",
      "127.0.0.1 - - [11/Sep/2019 15:22:42] \"GET /_dash-component-suites/dash_renderer/dash_renderer.min.js?v=1.0.1&m=1567121872 HTTP/1.1\" 200 -\n",
      "127.0.0.1 - - [11/Sep/2019 15:22:42] \"GET /_dash-component-suites/dash_core_components/dash_core_components.min.js?v=1.1.2&m=1567121874 HTTP/1.1\" 200 -\n",
      "127.0.0.1 - - [11/Sep/2019 15:22:43] \"GET /_dash-component-suites/dash_core_components/plotly-1.49.4.min.js?v=1.1.2&m=1567121874 HTTP/1.1\" 200 -\n",
      "127.0.0.1 - - [11/Sep/2019 15:22:44] \"GET /_dash-layout HTTP/1.1\" 200 -\n",
      "127.0.0.1 - - [11/Sep/2019 15:22:44] \"GET /_dash-dependencies HTTP/1.1\" 200 -\n",
      "127.0.0.1 - - [11/Sep/2019 15:22:44] \"POST /_dash-update-component HTTP/1.1\" 200 -\n",
      "127.0.0.1 - - [11/Sep/2019 15:22:44] \"POST /_dash-update-component HTTP/1.1\" 200 -\n"
     ]
    }
   ],
   "source": [
    "def serve_layout():\n",
    "    if flask.has_request_context():\n",
    "        return url_bar_and_content_div\n",
    "    return html.Div([\n",
    "        url_bar_and_content_div,\n",
    "        layout_index,\n",
    "        layout_page_1,\n",
    "        layout_page_2,\n",
    "    ])\n",
    "#function that returns the layouts of the different webpages and url.location\n",
    "\n",
    "app.layout = serve_layout #stores the layouts of the three webpages. This is key to having multiple webpages running using on Flask app\n",
    "\n",
    "\n",
    "# Index callbacks (homepage)\n",
    "@app.callback(Output('page-content', 'children'),\n",
    "              [Input('url', 'pathname')])\n",
    "def display_page(pathname):\n",
    "    if pathname == \"/page-1\":\n",
    "        return layout_page_1\n",
    "    elif pathname == \"/page-2\":\n",
    "        return layout_page_2\n",
    "    else:\n",
    "        return layout_index\n",
    "\n",
    "\n",
    "# Page 1 callbacks\n",
    "@app.callback(Output('output-state', 'children'),\n",
    "              [Input('submit-button', 'n_clicks')],\n",
    "              [State('input-1-state', 'value'),\n",
    "               State('input-2-state', 'value')])\n",
    "def update_output(n_clicks, input1, input2):\n",
    "    return ('The Button has been pressed {} times,'\n",
    "            'Input 1 is \"{}\",'\n",
    "            'and Input 2 is \"{}\"').format(n_clicks, input1, input2)\n",
    "\n",
    "\n",
    "# Page 2 callbacks\n",
    "@app.callback(Output('page-2-display-value', 'children'),\n",
    "              [Input('page-2-dropdown', 'value')])\n",
    "def display_value(value):\n",
    "    print('display_value')\n",
    "    return 'You have selected \"{}\"'.format(value)\n",
    "\n",
    "if __name__ == '__main__':\n",
    "    app.run_server()"
   ]
  }
 ],
 "metadata": {
  "kernelspec": {
   "display_name": "Python 3",
   "language": "python",
   "name": "python3"
  },
  "language_info": {
   "codemirror_mode": {
    "name": "ipython",
    "version": 3
   },
   "file_extension": ".py",
   "mimetype": "text/x-python",
   "name": "python",
   "nbconvert_exporter": "python",
   "pygments_lexer": "ipython3",
   "version": "3.7.4"
  }
 },
 "nbformat": 4,
 "nbformat_minor": 2
}
