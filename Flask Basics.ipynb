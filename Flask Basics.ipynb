{
 "cells": [
  {
   "cell_type": "markdown",
   "metadata": {},
   "source": [
    "# Flask\n",
    "## How Flask works"
   ]
  },
  {
   "cell_type": "markdown",
   "metadata": {},
   "source": [
    "When we open a browser we see a few things:\n",
    "Front-End\n",
    "- **HTML** displays the page elements like the actual text on the website\n",
    "- **CSS** styles the elemtns liek change font or sizeof the text\n",
    "- **Bootstrap** provides some automatic styling through CSS and Javascript"
   ]
  },
  {
   "cell_type": "markdown",
   "metadata": {},
   "source": [
    "Every website will perform some main ops:\n",
    "- Accept info from user\n",
    "- Retrieve info from databse\n",
    "- Create/Update/Delee info in the database\n",
    "- Display information back to the user\n",
    "\n",
    "To connect the front-end stuff to web database, we need a web framework.\n",
    "WEb framework is to accept user information from website and connect to back-end database and report something releveant that cna be stored in db to the front-end to user can see it\n",
    "\n",
    "**Flask** is a web framework. Allows to connect Python code to the web. Flask has reputation for being not scalable. "
   ]
  },
  {
   "cell_type": "markdown",
   "metadata": {},
   "source": [
    "## Accepting user information\n",
    "- Could be something like accepting query into Google search - instance of user filling out info. WTForms is a library that works well with flask\n",
    "- Communicate with database and retrieve information. In this case its SQLite. SQLite can scale to quite a large website.\n",
    "- SQLAlchemy allows us to write Python code instead of SQL queries\n",
    "- Flask is like connector between front-end and back-end info that is stored\n",
    "- **Jinja** templates grab info from Python and Flask ad send info back as HTML\n",
    "- Flask renders HTML templates"
   ]
  },
  {
   "cell_type": "markdown",
   "metadata": {},
   "source": [
    "## Virtual Environment"
   ]
  },
  {
   "cell_type": "markdown",
   "metadata": {},
   "source": [
    "Launched web app and want to use external python library, but the library gets updated. We can set up virtual environment to help manage dependencies. "
   ]
  },
  {
   "cell_type": "markdown",
   "metadata": {},
   "source": [
    "## Flask \"Hello World\" example\n",
    "- Return a string \"Hello Puppy\" on a webpage"
   ]
  },
  {
   "cell_type": "code",
   "execution_count": 1,
   "metadata": {},
   "outputs": [
    {
     "name": "stdout",
     "output_type": "stream",
     "text": [
      " * Serving Flask app \"__main__\" (lazy loading)\n",
      " * Environment: production\n",
      "   WARNING: Do not use the development server in a production environment.\n",
      "   Use a production WSGI server instead.\n",
      " * Debug mode: off\n"
     ]
    },
    {
     "name": "stderr",
     "output_type": "stream",
     "text": [
      " * Running on http://127.0.0.1:5000/ (Press CTRL+C to quit)\n"
     ]
    }
   ],
   "source": [
    "from flask import Flask \n",
    "\n",
    "#Next line creates an application object as an instance of the class flask\n",
    "#name variable is a python pre-defined variable which is set to name of module in which it is used\n",
    "#flask uses location of module as a starting point when loading other files\n",
    "app = Flask(__name__) \n",
    "\n",
    "#linkes the page below to whatever route on web ap it should be at\n",
    "#'/' is same thing as single home page or domain\n",
    "@app.route('/')\n",
    "\n",
    "#defines a page index with the function and returns a string\n",
    "def index():\n",
    "    return '<h1>Hello Puppy!</h1>'\n",
    "\n",
    "#if running script, run the application\n",
    "if __name__ == '__main__':\n",
    "    app.run()"
   ]
  },
  {
   "cell_type": "markdown",
   "metadata": {},
   "source": [
    "## Basic Routing"
   ]
  },
  {
   "cell_type": "markdown",
   "metadata": {},
   "source": [
    "## Add multiple pages on web application\n",
    "\n",
    "- @app.route() is the main functon\n",
    "- Home domain is represented as http://127.0.0.1:5000/\n",
    "- @app.route(\"/some_page\") is a new page\n",
    "- Once deploted to web, its going to be replaced by the domain name"
   ]
  },
  {
   "cell_type": "code",
   "execution_count": 5,
   "metadata": {},
   "outputs": [
    {
     "name": "stdout",
     "output_type": "stream",
     "text": [
      " * Serving Flask app \"__main__\" (lazy loading)\n",
      " * Environment: production\n",
      "   WARNING: This is a development server. Do not use it in a production deployment.\n",
      "   Use a production WSGI server instead.\n",
      " * Debug mode: off\n"
     ]
    },
    {
     "name": "stderr",
     "output_type": "stream",
     "text": [
      " * Running on http://127.0.0.1:5000/ (Press CTRL+C to quit)\n",
      "127.0.0.1 - - [10/Sep/2019 16:59:56] \"GET / HTTP/1.1\" 200 -\n",
      "127.0.0.1 - - [10/Sep/2019 17:00:01] \"GET /info HTTP/1.1\" 200 -\n"
     ]
    }
   ],
   "source": [
    "from flask import Flask \n",
    "\n",
    "app = Flask(__name__) \n",
    "\n",
    "@app.route('/')\n",
    "\n",
    "def index():\n",
    "    return '<h1>Hello Puppy!</h1>'\n",
    "\n",
    "@app.route('/info') #this is just defining anothe rpage\n",
    "def info():\n",
    "    return \"<h1> Puppies are cute!</h1>\"\n",
    "\n",
    "if __name__ == '__main__':\n",
    "    app.run()"
   ]
  },
  {
   "cell_type": "markdown",
   "metadata": {},
   "source": [
    "## Dynamic Routing\n",
    "Different routes depending on situation\n",
    "- Often will want URL route extensions to be dynamic based on the situation\n",
    "- Eg. web app with many users, so going t want profile page url for each user to be unique sot hee's on collision\n",
    "    - So going to be /user_name\n",
    "- Dynamic routes have 2 key aspects:\n",
    "    - variable in the route (app.route) will have a variable that will be passed"
   ]
  },
  {
   "cell_type": "code",
   "execution_count": null,
   "metadata": {},
   "outputs": [
    {
     "name": "stdout",
     "output_type": "stream",
     "text": [
      " * Serving Flask app \"__main__\" (lazy loading)\n",
      " * Environment: production\n",
      "   WARNING: Do not use the development server in a production environment.\n",
      "   Use a production WSGI server instead.\n",
      " * Debug mode: off\n"
     ]
    },
    {
     "name": "stderr",
     "output_type": "stream",
     "text": [
      " * Running on http://127.0.0.1:5000/ (Press CTRL+C to quit)\n",
      "127.0.0.1 - - [29/Oct/2019 12:18:17] \"GET / HTTP/1.1\" 200 -\n",
      "127.0.0.1 - - [29/Oct/2019 12:18:33] \"GET /some_page/boy HTTP/1.1\" 200 -\n"
     ]
    }
   ],
   "source": [
    "from flask import Flask \n",
    "\n",
    "app = Flask(__name__) \n",
    "\n",
    "@app.route('/')\n",
    "def index():\n",
    "    return '<h1>Hello Puppy!</h1>'\n",
    "\n",
    "@app.route('/some_page/<name>')\n",
    "def other_page(name): #essentially we're just returning user and formatting the name into the user\n",
    "    return 'User: {}'.format(name)\n",
    "\n",
    "if __name__ == \"__main__\":\n",
    "    app.run()"
   ]
  },
  {
   "cell_type": "code",
   "execution_count": 3,
   "metadata": {},
   "outputs": [
    {
     "name": "stdout",
     "output_type": "stream",
     "text": [
      " * Serving Flask app \"__main__\" (lazy loading)\n",
      " * Environment: production\n",
      "   WARNING: Do not use the development server in a production environment.\n",
      "   Use a production WSGI server instead.\n",
      " * Debug mode: off\n"
     ]
    },
    {
     "name": "stderr",
     "output_type": "stream",
     "text": [
      " * Running on http://127.0.0.1:5000/ (Press CTRL+C to quit)\n",
      "127.0.0.1 - - [29/Oct/2019 12:15:49] \"GET / HTTP/1.1\" 200 -\n",
      "127.0.0.1 - - [29/Oct/2019 12:15:50] \"GET /favicon.ico HTTP/1.1\" 404 -\n"
     ]
    }
   ],
   "source": [
    "@app.route('/puppy/<name>') #each puppy has a name\n",
    "#actual page will report back that puppy's name\n",
    "\n",
    "def puppy(name):\n",
    "    return\"<h1>This is a page for {}</h1>\".format(name)\n",
    "#we're passing the variable into a function and in this case it's for the variable name that's passed in\n",
    "\n",
    "if __name__ == \"__main__\":\n",
    "    app.run()"
   ]
  }
 ],
 "metadata": {
  "kernelspec": {
   "display_name": "Python 3",
   "language": "python",
   "name": "python3"
  },
  "language_info": {
   "codemirror_mode": {
    "name": "ipython",
    "version": 3
   },
   "file_extension": ".py",
   "mimetype": "text/x-python",
   "name": "python",
   "nbconvert_exporter": "python",
   "pygments_lexer": "ipython3",
   "version": "3.7.3"
  }
 },
 "nbformat": 4,
 "nbformat_minor": 2
}
